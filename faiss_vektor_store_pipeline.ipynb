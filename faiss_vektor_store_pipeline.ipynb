{
 "cells": [
  {
   "cell_type": "markdown",
   "id": "78037bc4",
   "metadata": {},
   "source": [
    "# FAISS Vector Store Pipeline für PDF-Dokumente"
   ]
  },
  {
   "cell_type": "code",
   "execution_count": 4,
   "id": "fcf8f0a0",
   "metadata": {},
   "outputs": [
    {
     "name": "stderr",
     "output_type": "stream",
     "text": [
      "/home/codespace/.local/lib/python3.12/site-packages/tqdm/auto.py:21: TqdmWarning: IProgress not found. Please update jupyter and ipywidgets. See https://ipywidgets.readthedocs.io/en/stable/user_install.html\n",
      "  from .autonotebook import tqdm as notebook_tqdm\n"
     ]
    }
   ],
   "source": [
    "import os\n",
    "import fitz  # PyMuPDF\n",
    "import faiss\n",
    "import numpy as np\n",
    "import umap\n",
    "import matplotlib.pyplot as plt\n",
    "from sentence_transformers import SentenceTransformer\n",
    "from langchain.text_splitter import RecursiveCharacterTextSplitter\n"
   ]
  },
  {
   "cell_type": "markdown",
   "id": "c8f6f90e",
   "metadata": {},
   "source": [
    "# === 1. PDF-Text extrahieren ==="
   ]
  },
  {
   "cell_type": "code",
   "execution_count": 5,
   "id": "0230b7e4",
   "metadata": {},
   "outputs": [],
   "source": [
    "def extract_text_from_pdf(pdf_path):\n",
    "    doc = fitz.open(pdf_path)\n",
    "    text = \"\"\n",
    "    for page in doc:\n",
    "        text += page.get_text()\n",
    "    return text\n",
    "\n",
    "pdf_paths = [\n",
    "    \"data/Z_RL_Richtlinie_KI_bei_Leistungsnachweisen.pdf\",\n",
    "    \"data/Z_RL_Richtlinie_Anhang_Deklarationspflicht_KI_bei_Arbeiten.pdf\",\n",
    "    \"data/ZHAW_Zitierleitfaden_DE.pdf\",\n",
    "    \"data/02_Merkblatt_Vermeidung-von-Plagiaten_0916.pdf\",\n",
    "    \"data/05_Checkliste_Sprachliche_Formale_Ausarbeitung.pdf\",\n",
    "    \"data/Bibliotheksangebot_Bachelorarbeit_HS24FS25.pdf\",\n",
    "    \"data/Schwerpunktthemen_fuer_Studenten.pdf\",\n",
    "    \"data/W_MB_Merkblatt_Bachelorarbeit_BSc.pdf\",\n",
    "    \"data/Z_MB_Merkblatt_Verwendung_von_generativer_KI_in_Arbeiten.pdf\"\n",
    "]\n",
    "\n",
    "texts = [extract_text_from_pdf(path) for path in pdf_paths]"
   ]
  },
  {
   "cell_type": "markdown",
   "id": "745bfe36",
   "metadata": {},
   "source": [
    "# === 2. Texte in Chunks aufteilen ==="
   ]
  },
  {
   "cell_type": "code",
   "execution_count": 6,
   "id": "97caf042",
   "metadata": {},
   "outputs": [],
   "source": [
    "splitter = RecursiveCharacterTextSplitter(chunk_size=500, chunk_overlap=50)\n",
    "documents = splitter.create_documents(texts)"
   ]
  },
  {
   "cell_type": "markdown",
   "id": "8439c100",
   "metadata": {},
   "source": [
    "# === 3. Embeddings generieren ==="
   ]
  },
  {
   "cell_type": "code",
   "execution_count": 7,
   "id": "96751647",
   "metadata": {},
   "outputs": [
    {
     "name": "stderr",
     "output_type": "stream",
     "text": [
      "Batches: 100%|██████████| 8/8 [06:18<00:00, 47.26s/it]\n"
     ]
    }
   ],
   "source": [
    "model = SentenceTransformer(\"Sahajtomar/German-semantic\")\n",
    "texts_for_embedding = [doc.page_content for doc in documents]\n",
    "embeddings = model.encode(texts_for_embedding, show_progress_bar=True)"
   ]
  },
  {
   "cell_type": "markdown",
   "id": "3fc1dc0f",
   "metadata": {},
   "source": [
    "# === 4. FAISS Index erstellen ==="
   ]
  },
  {
   "cell_type": "code",
   "execution_count": 8,
   "id": "d72afb05",
   "metadata": {},
   "outputs": [],
   "source": [
    "dimension = embeddings[0].shape[0]\n",
    "index = faiss.IndexFlatL2(dimension)\n",
    "index.add(np.array(embeddings))"
   ]
  },
  {
   "cell_type": "markdown",
   "id": "2b62fa2e",
   "metadata": {},
   "source": [
    "# === 5. UMAP-Projektion ==="
   ]
  },
  {
   "cell_type": "code",
   "execution_count": 9,
   "id": "0a03eee5",
   "metadata": {},
   "outputs": [
    {
     "name": "stderr",
     "output_type": "stream",
     "text": [
      "/home/codespace/.local/lib/python3.12/site-packages/sklearn/utils/deprecation.py:151: FutureWarning: 'force_all_finite' was renamed to 'ensure_all_finite' in 1.6 and will be removed in 1.8.\n",
      "  warnings.warn(\n"
     ]
    },
    {
     "data": {
      "image/png": "[encoded data removed]",
      "text/plain": [
       "<Figure size 1000x800 with 1 Axes>"
      ]
     },
     "metadata": {},
     "output_type": "display_data"
    }
   ],
   "source": [
    "umap_model = umap.UMAP(n_neighbors=15, min_dist=0.1, metric='cosine')\n",
    "embedding_2d = umap_model.fit_transform(embeddings)\n",
    "\n",
    "plt.figure(figsize=(10, 8))\n",
    "plt.scatter(embedding_2d[:, 0], embedding_2d[:, 1], s=5)\n",
    "plt.title(\"2D Visualisierung der Embeddings\")\n",
    "plt.xlabel(\"UMAP 1\")\n",
    "plt.ylabel(\"UMAP 2\")\n",
    "plt.show()"
   ]
  },
  {
   "cell_type": "markdown",
   "id": "ad2f8626",
   "metadata": {},
   "source": [
    "# === 6. Semantische Suche ==="
   ]
  },
  {
   "cell_type": "code",
   "execution_count": 10,
   "id": "893b3486",
   "metadata": {},
   "outputs": [],
   "source": [
    "def semantic_search(query, top_k=3):\n",
    "    query_embedding = model.encode([query])\n",
    "    distances, indices = index.search(np.array(query_embedding), k=top_k)\n",
    "    return [documents[i].page_content for i in indices[0]]"
   ]
  },
  {
   "cell_type": "markdown",
   "id": "42d3e185",
   "metadata": {},
   "source": [
    "# === 7. Prompt Konstruktion für Groq LLM ==="
   ]
  },
  {
   "cell_type": "code",
   "execution_count": 19,
   "id": "47b59fb6",
   "metadata": {},
   "outputs": [],
   "source": [
    "def build_prompt(context, question):\n",
    "    return f\"\"\"\n",
    "Verwenden Sie den folgenden Kontext, um die Frage zu beantworten.\n",
    "\n",
    "Kontext:\n",
    "{context}\n",
    "\n",
    "Frage:\n",
    "{question}\n",
    "\n",
    "Antwort:\n",
    "\"\"\""
   ]
  },
  {
   "cell_type": "markdown",
   "id": "2673d82d",
   "metadata": {},
   "source": [
    "# === 8. Anfrage an Groq LLM API ==="
   ]
  },
  {
   "cell_type": "code",
   "execution_count": 23,
   "id": "86d8c75f",
   "metadata": {},
   "outputs": [],
   "source": [
    "def query_groq_llm(prompt, api_key):\n",
    "    url = \"https://api.groq.com/openai/v1/chat/completions\"\n",
    "    headers = {\n",
    "        \"Authorization\": f\"Bearer {api_key}\",\n",
    "        \"Content-Type\": \"application/json\"\n",
    "    }\n",
    "    data = {\n",
    "        \"model\": \"llama-3.3-70b-versatile\",\n",
    "        \"messages\": [\n",
    "            {\"role\": \"user\", \"content\": prompt}\n",
    "        ],\n",
    "        \"temperature\": 0.7\n",
    "    }\n",
    "    response = requests.post(url, headers=headers, json=data)\n",
    "    return response.json()['choices'][0]['message']['content']"
   ]
  },
  {
   "cell_type": "markdown",
   "id": "376fdeba",
   "metadata": {},
   "source": [
    "# === 9. Beispielanfrage ==="
   ]
  },
  {
   "cell_type": "code",
   "execution_count": 28,
   "id": "77ed300c",
   "metadata": {},
   "outputs": [
    {
     "name": "stdout",
     "output_type": "stream",
     "text": [
      "Final answer from the LLM:\n",
      "\n",
      "Leider enthält der bereitgestellte Kontext keine Informationen über die Diagnose von Asthma oder relevante Faktoren, die bei der Diagnose berücksichtigt werden sollten. Der Kontext befasst sich hauptsächlich mit Zitierleitfäden, Bildungsmanagement und ein paar spezifischen Quellen zu verschiedenen Themen, einschließlich Raucherentwöhnung und Bildung. Es gibt keine direkte Verbindung zu Asthma oder medizinischen Diagnoseverfahren.\n",
      "\n",
      "Um eine genaue Antwort auf Ihre Frage zu geben, bräuchte ich spezifische Informationen oder Studien zum Thema Asthma-Diagnose. Ohne diese Informationen kann ich keine fundierte Antwort liefern. Wenn Sie weitere Informationen oder Kontext haben, stehe ich Ihnen gerne zur Verfügung, um Ihre Frage zu beantworten.\n"
     ]
    }
   ],
   "source": [
    "import requests\n",
    "\n",
    "if __name__ == \"__main__\":\n",
    "    user_query = \"What is the most important factor in diagnosing asthma?\"\n",
    "    retrieved_chunks = semantic_search(user_query, top_k=3)\n",
    "    context_block = \"\\n---\\n\".join(retrieved_chunks)\n",
    "    prompt = build_prompt(context_block, user_query)\n",
    "\n",
    "    GROQ_API_KEY = \"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\"\n",
    "    \n",
    "    if GROQ_API_KEY:\n",
    "        answer = query_groq_llm(prompt, GROQ_API_KEY)\n",
    "        print(\"Final answer from the LLM:\\n\")\n",
    "        print(answer)\n",
    "    else:\n",
    "        print(\"[Error] GROQ_API_KEY environment variable not set.\")\n",
    "\n"
   ]
  }
 ],
 "metadata": {
  "kernelspec": {
   "display_name": "Python 3",
   "language": "python",
   "name": "python3"
  },
  "language_info": {
   "codemirror_mode": {
    "name": "ipython",
    "version": 3
   },
   "file_extension": ".py",
   "mimetype": "text/x-python",
   "name": "python",
   "nbconvert_exporter": "python",
   "pygments_lexer": "ipython3",
   "version": "3.12.1"
  }
 },
 "nbformat": 4,
 "nbformat_minor": 5
}
